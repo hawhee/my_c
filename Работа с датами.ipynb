{
 "cells": [
  {
   "cell_type": "code",
   "execution_count": 6,
   "metadata": {},
   "outputs": [],
   "source": [
    "from datetime import datetime, timedelta"
   ]
  },
  {
   "cell_type": "code",
   "execution_count": 19,
   "metadata": {},
   "outputs": [
    {
     "name": "stdout",
     "output_type": "stream",
     "text": [
      "Строка 'May 9 2017 9:00 AM' в формате datetime: \n",
      "2017-05-09 09:00:00\n"
     ]
    }
   ],
   "source": [
    "print(\"Строка 'May 9 2017 9:00 AM' в формате datetime: \")\n",
    "dateString = 'May 9 2017 9:00AM'\n",
    "date = datetime.strptime(dateString, '%b %d %Y %I:%M%p')\n",
    "print(date)"
   ]
  },
  {
   "cell_type": "code",
   "execution_count": 20,
   "metadata": {},
   "outputs": [
    {
     "name": "stdout",
     "output_type": "stream",
     "text": [
      "Прибавляем час к 'May 9 2017 9:00 AM' \n"
     ]
    },
    {
     "data": {
      "text/plain": [
       "datetime.datetime(2017, 5, 9, 10, 0)"
      ]
     },
     "execution_count": 20,
     "metadata": {},
     "output_type": "execute_result"
    }
   ],
   "source": [
    "print(\"Прибавляем час к 'May 9 2017 9:00 AM' \")\n",
    "date += timedelta(hours=1)\n",
    "date"
   ]
  },
  {
   "cell_type": "code",
   "execution_count": 22,
   "metadata": {},
   "outputs": [
    {
     "name": "stdout",
     "output_type": "stream",
     "text": [
      "2017-05-09\n"
     ]
    }
   ],
   "source": [
    "dateStringNew = date.strftime('%Y-%m-%d')\n",
    "print(dateStringNew)"
   ]
  },
  {
   "cell_type": "code",
   "execution_count": 42,
   "metadata": {},
   "outputs": [
    {
     "name": "stdout",
     "output_type": "stream",
     "text": [
      "Последнее значение до 2 января: 2020-01-03 23:00:00\n"
     ]
    }
   ],
   "source": [
    "dates_list=[]\n",
    "startDate = '2020-1-1 00:00:00'\n",
    "endDate = '2020-1-3 23:00:00'\n",
    "startDate_datetime = datetime.strptime(startDate, '%Y-%m-%d %H:%M:%S')\n",
    "endDate_datetime = datetime.strptime(endDate, '%Y-%m-%d %H:%M:%S')\n",
    "day = startDate_datetime\n",
    "dates_list = []\n",
    "while day <= endDate_datetime:\n",
    "  dates_list.append(day.strftime('%Y-%m-%d %H:%M:%S'))\n",
    "  day += timedelta(hours=1)\n",
    "print(\"Последнее значение до 2 января:\", dates_list[-1])"
   ]
  },
  {
   "cell_type": "code",
   "execution_count": null,
   "metadata": {},
   "outputs": [],
   "source": []
  }
 ],
 "metadata": {
  "kernelspec": {
   "display_name": "Python 3",
   "language": "python",
   "name": "python3"
  },
  "language_info": {
   "codemirror_mode": {
    "name": "ipython",
    "version": 3
   },
   "file_extension": ".py",
   "mimetype": "text/x-python",
   "name": "python",
   "nbconvert_exporter": "python",
   "pygments_lexer": "ipython3",
   "version": "3.7.4"
  }
 },
 "nbformat": 4,
 "nbformat_minor": 2
}
