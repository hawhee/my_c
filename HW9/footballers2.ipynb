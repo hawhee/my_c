{
 "cells": [
  {
   "cell_type": "code",
   "execution_count": 1,
   "metadata": {},
   "outputs": [],
   "source": [
    "import pandas as pd\n",
    "url = \"https://raw.githubusercontent.com/dm-fedorov/pandas_basic/master/data/football.csv\"\n",
    "football = pd.read_csv(url)"
   ]
  },
  {
   "cell_type": "code",
   "execution_count": 2,
   "metadata": {},
   "outputs": [
    {
     "name": "stdout",
     "output_type": "stream",
     "text": [
      "Количество футбольных клубов:  650\n"
     ]
    }
   ],
   "source": [
    "print(\"Количество футбольных клубов: \", football['Club'].nunique())"
   ]
  },
  {
   "cell_type": "code",
   "execution_count": 3,
   "metadata": {},
   "outputs": [
    {
     "name": "stdout",
     "output_type": "stream",
     "text": [
      "Количество испанцев с зарплатой не более четверти от максимальной:  12743\n"
     ]
    }
   ],
   "source": [
    "print(\"Количество испанцев с зарплатой не более четверти от максимальной: \", \n",
    "      football[football['Wage'] <= football[football['Nationality'] == 'Spain']['Wage'].value_counts(bins=4).index[0].right]['Wage'].count())"
   ]
  },
  {
   "cell_type": "code",
   "execution_count": 9,
   "metadata": {},
   "outputs": [
    {
     "name": "stdout",
     "output_type": "stream",
     "text": [
      "Количество различных национальностей в Manchester United:  13\n"
     ]
    }
   ],
   "source": [
    "print(\"Количество различных национальностей в Manchester United: \", \n",
    "      len(football[football['Club'] == 'Manchester United']['Nationality'].unique()))"
   ]
  },
  {
   "cell_type": "code",
   "execution_count": 10,
   "metadata": {},
   "outputs": [
    {
     "name": "stdout",
     "output_type": "stream",
     "text": [
      "Бразильцы, играющие в Juventus:  ['Alex Sandro' 'Douglas Costa']\n"
     ]
    }
   ],
   "source": [
    "print(\"Бразильцы, играющие в Juventus: \", \n",
    "      football[(football['Club'] == 'Juventus') & \n",
    "               (football['Nationality'] == 'Brazil')]['Name'].unique())"
   ]
  },
  {
   "cell_type": "code",
   "execution_count": 12,
   "metadata": {},
   "outputs": [
    {
     "name": "stdout",
     "output_type": "stream",
     "text": [
      "Количество футболистов от 34.75 до 41 в сборной Аргентины:  14\n"
     ]
    }
   ],
   "source": [
    "print(\"Количество футболистов от 34.75 до 41 в сборной Аргентины: \", \n",
    "      football[(football['Nationality'] == 'Argentina') & \n",
    "               (football['Age'] >= football['Age'].value_counts(bins=4).index[3].left)]['Age'].count())"
   ]
  },
  {
   "cell_type": "code",
   "execution_count": 13,
   "metadata": {},
   "outputs": [
    {
     "name": "stdout",
     "output_type": "stream",
     "text": [
      "Процент 21-их футболистов от всех Испанцев:  0.12\n"
     ]
    }
   ],
   "source": [
    "print(\"Процент 21-их футболистов от всех Испанцев: \", \n",
    "      round(football[football['Nationality'] == 'Spain']['Age'].value_counts(normalize=True)[21], 2))"
   ]
  },
  {
   "cell_type": "code",
   "execution_count": null,
   "metadata": {},
   "outputs": [],
   "source": []
  }
 ],
 "metadata": {
  "kernelspec": {
   "display_name": "Python 3",
   "language": "python",
   "name": "python3"
  },
  "language_info": {
   "codemirror_mode": {
    "name": "ipython",
    "version": 3
   },
   "file_extension": ".py",
   "mimetype": "text/x-python",
   "name": "python",
   "nbconvert_exporter": "python",
   "pygments_lexer": "ipython3",
   "version": "3.7.4"
  }
 },
 "nbformat": 4,
 "nbformat_minor": 2
}
