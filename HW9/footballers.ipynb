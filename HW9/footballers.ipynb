{
 "cells": [
  {
   "cell_type": "code",
   "execution_count": 1,
   "metadata": {},
   "outputs": [
    {
     "data": {
      "text/html": [
       "<div>\n",
       "<style scoped>\n",
       "    .dataframe tbody tr th:only-of-type {\n",
       "        vertical-align: middle;\n",
       "    }\n",
       "\n",
       "    .dataframe tbody tr th {\n",
       "        vertical-align: top;\n",
       "    }\n",
       "\n",
       "    .dataframe thead th {\n",
       "        text-align: right;\n",
       "    }\n",
       "</style>\n",
       "<table border=\"1\" class=\"dataframe\">\n",
       "  <thead>\n",
       "    <tr style=\"text-align: right;\">\n",
       "      <th></th>\n",
       "      <th>Unnamed: 0</th>\n",
       "      <th>Name</th>\n",
       "      <th>Age</th>\n",
       "      <th>Nationality</th>\n",
       "      <th>Club</th>\n",
       "      <th>Value</th>\n",
       "      <th>Wage</th>\n",
       "      <th>Position</th>\n",
       "      <th>Crossing</th>\n",
       "      <th>Finishing</th>\n",
       "      <th>...</th>\n",
       "      <th>Penalties</th>\n",
       "      <th>Composure</th>\n",
       "      <th>Marking</th>\n",
       "      <th>StandingTackle</th>\n",
       "      <th>SlidingTackle</th>\n",
       "      <th>GKDiving</th>\n",
       "      <th>GKHandling</th>\n",
       "      <th>GKKicking</th>\n",
       "      <th>GKPositioning</th>\n",
       "      <th>GKReflexes</th>\n",
       "    </tr>\n",
       "  </thead>\n",
       "  <tbody>\n",
       "    <tr>\n",
       "      <td>0</td>\n",
       "      <td>0</td>\n",
       "      <td>L. Messi</td>\n",
       "      <td>31</td>\n",
       "      <td>Argentina</td>\n",
       "      <td>FC Barcelona</td>\n",
       "      <td>110500000</td>\n",
       "      <td>565000</td>\n",
       "      <td>RF</td>\n",
       "      <td>84</td>\n",
       "      <td>95</td>\n",
       "      <td>...</td>\n",
       "      <td>75</td>\n",
       "      <td>96</td>\n",
       "      <td>33</td>\n",
       "      <td>28</td>\n",
       "      <td>26</td>\n",
       "      <td>6</td>\n",
       "      <td>11</td>\n",
       "      <td>15</td>\n",
       "      <td>14</td>\n",
       "      <td>8</td>\n",
       "    </tr>\n",
       "    <tr>\n",
       "      <td>1</td>\n",
       "      <td>1</td>\n",
       "      <td>Cristiano Ronaldo</td>\n",
       "      <td>33</td>\n",
       "      <td>Portugal</td>\n",
       "      <td>Juventus</td>\n",
       "      <td>77000000</td>\n",
       "      <td>405000</td>\n",
       "      <td>ST</td>\n",
       "      <td>84</td>\n",
       "      <td>94</td>\n",
       "      <td>...</td>\n",
       "      <td>85</td>\n",
       "      <td>95</td>\n",
       "      <td>28</td>\n",
       "      <td>31</td>\n",
       "      <td>23</td>\n",
       "      <td>7</td>\n",
       "      <td>11</td>\n",
       "      <td>15</td>\n",
       "      <td>14</td>\n",
       "      <td>11</td>\n",
       "    </tr>\n",
       "    <tr>\n",
       "      <td>2</td>\n",
       "      <td>2</td>\n",
       "      <td>Neymar Jr</td>\n",
       "      <td>26</td>\n",
       "      <td>Brazil</td>\n",
       "      <td>Paris Saint-Germain</td>\n",
       "      <td>118500000</td>\n",
       "      <td>290000</td>\n",
       "      <td>LW</td>\n",
       "      <td>79</td>\n",
       "      <td>87</td>\n",
       "      <td>...</td>\n",
       "      <td>81</td>\n",
       "      <td>94</td>\n",
       "      <td>27</td>\n",
       "      <td>24</td>\n",
       "      <td>33</td>\n",
       "      <td>9</td>\n",
       "      <td>9</td>\n",
       "      <td>15</td>\n",
       "      <td>15</td>\n",
       "      <td>11</td>\n",
       "    </tr>\n",
       "    <tr>\n",
       "      <td>3</td>\n",
       "      <td>3</td>\n",
       "      <td>De Gea</td>\n",
       "      <td>27</td>\n",
       "      <td>Spain</td>\n",
       "      <td>Manchester United</td>\n",
       "      <td>72000000</td>\n",
       "      <td>260000</td>\n",
       "      <td>GK</td>\n",
       "      <td>17</td>\n",
       "      <td>13</td>\n",
       "      <td>...</td>\n",
       "      <td>40</td>\n",
       "      <td>68</td>\n",
       "      <td>15</td>\n",
       "      <td>21</td>\n",
       "      <td>13</td>\n",
       "      <td>90</td>\n",
       "      <td>85</td>\n",
       "      <td>87</td>\n",
       "      <td>88</td>\n",
       "      <td>94</td>\n",
       "    </tr>\n",
       "    <tr>\n",
       "      <td>4</td>\n",
       "      <td>4</td>\n",
       "      <td>K. De Bruyne</td>\n",
       "      <td>27</td>\n",
       "      <td>Belgium</td>\n",
       "      <td>Manchester City</td>\n",
       "      <td>102000000</td>\n",
       "      <td>355000</td>\n",
       "      <td>RCM</td>\n",
       "      <td>93</td>\n",
       "      <td>82</td>\n",
       "      <td>...</td>\n",
       "      <td>79</td>\n",
       "      <td>88</td>\n",
       "      <td>68</td>\n",
       "      <td>58</td>\n",
       "      <td>51</td>\n",
       "      <td>15</td>\n",
       "      <td>13</td>\n",
       "      <td>5</td>\n",
       "      <td>10</td>\n",
       "      <td>13</td>\n",
       "    </tr>\n",
       "  </tbody>\n",
       "</table>\n",
       "<p>5 rows × 42 columns</p>\n",
       "</div>"
      ],
      "text/plain": [
       "   Unnamed: 0               Name  Age Nationality                 Club  \\\n",
       "0           0           L. Messi   31   Argentina         FC Barcelona   \n",
       "1           1  Cristiano Ronaldo   33    Portugal             Juventus   \n",
       "2           2          Neymar Jr   26      Brazil  Paris Saint-Germain   \n",
       "3           3             De Gea   27       Spain    Manchester United   \n",
       "4           4       K. De Bruyne   27     Belgium      Manchester City   \n",
       "\n",
       "       Value    Wage Position  Crossing  Finishing  ...  Penalties  Composure  \\\n",
       "0  110500000  565000       RF        84         95  ...         75         96   \n",
       "1   77000000  405000       ST        84         94  ...         85         95   \n",
       "2  118500000  290000       LW        79         87  ...         81         94   \n",
       "3   72000000  260000       GK        17         13  ...         40         68   \n",
       "4  102000000  355000      RCM        93         82  ...         79         88   \n",
       "\n",
       "   Marking  StandingTackle  SlidingTackle  GKDiving  GKHandling  GKKicking  \\\n",
       "0       33              28             26         6          11         15   \n",
       "1       28              31             23         7          11         15   \n",
       "2       27              24             33         9           9         15   \n",
       "3       15              21             13        90          85         87   \n",
       "4       68              58             51        15          13          5   \n",
       "\n",
       "   GKPositioning  GKReflexes  \n",
       "0             14           8  \n",
       "1             14          11  \n",
       "2             15          11  \n",
       "3             88          94  \n",
       "4             10          13  \n",
       "\n",
       "[5 rows x 42 columns]"
      ]
     },
     "execution_count": 1,
     "metadata": {},
     "output_type": "execute_result"
    }
   ],
   "source": [
    "import pandas as pd\n",
    "\n",
    "url = \"https://raw.githubusercontent.com/dm-fedorov/pandas_basic/master/data/football.csv\"\n",
    "\n",
    "football = pd.read_csv(url)\n",
    "football.head()"
   ]
  },
  {
   "cell_type": "code",
   "execution_count": 2,
   "metadata": {},
   "outputs": [
    {
     "name": "stdout",
     "output_type": "stream",
     "text": [
      "Средний возраст футболистов: 25\n"
     ]
    }
   ],
   "source": [
    "print(\"Средний возраст футболистов:\", round(football['Age'].mean()))"
   ]
  },
  {
   "cell_type": "code",
   "execution_count": 3,
   "metadata": {},
   "outputs": [
    {
     "name": "stdout",
     "output_type": "stream",
     "text": [
      "Количество хладнокровных футболистов: 12897\n"
     ]
    }
   ],
   "source": [
    "print(\"Количество хладнокровных футболистов:\", football['Composure'].count())"
   ]
  },
  {
   "cell_type": "code",
   "execution_count": 22,
   "metadata": {},
   "outputs": [
    {
     "name": "stdout",
     "output_type": "stream",
     "text": [
      "Стандартное отклонение параметра коротких пасов: 14.74\n"
     ]
    }
   ],
   "source": [
    "print(\"Стандартное отклонение параметра коротких пасов:\", round(football['ShortPassing'].std(),2))"
   ]
  },
  {
   "cell_type": "code",
   "execution_count": 23,
   "metadata": {},
   "outputs": [
    {
     "name": "stdout",
     "output_type": "stream",
     "text": [
      "Сумма заработных плат за год: 96954000\n"
     ]
    }
   ],
   "source": [
    "print(\"Сумма заработных плат за год:\", football['Wage'].sum())"
   ]
  },
  {
   "cell_type": "code",
   "execution_count": 24,
   "metadata": {},
   "outputs": [
    {
     "name": "stdout",
     "output_type": "stream",
     "text": [
      "Минимальная стоимость футболиста: 0\n"
     ]
    }
   ],
   "source": [
    "print(\"Минимальная стоимость футболиста:\", football['Value'].min())"
   ]
  },
  {
   "cell_type": "code",
   "execution_count": 25,
   "metadata": {},
   "outputs": [
    {
     "name": "stdout",
     "output_type": "stream",
     "text": [
      "Средняя скорость с зарплатой выше среднего: 67.57\n"
     ]
    }
   ],
   "source": [
    "print(\"Средняя скорость с зарплатой выше среднего:\", \n",
    "      round(football[football.Wage > football.Wage.mean()].SprintSpeed.mean(),2))"
   ]
  },
  {
   "cell_type": "code",
   "execution_count": 41,
   "metadata": {},
   "outputs": [
    {
     "name": "stdout",
     "output_type": "stream",
     "text": [
      "Средняя скорость с зарплатой ниже среднего: 62.41\n"
     ]
    }
   ],
   "source": [
    "print(\"Средняя скорость с зарплатой ниже среднего:\", \n",
    "      round(football[football.Wage < football.Wage.mean()].SprintSpeed.mean(),2))"
   ]
  },
  {
   "cell_type": "code",
   "execution_count": 28,
   "metadata": {},
   "outputs": [
    {
     "name": "stdout",
     "output_type": "stream",
     "text": [
      "Позиция самого высокооплачиваемого игрока: RF\n"
     ]
    }
   ],
   "source": [
    "print(\"Позиция самого высокооплачиваемого игрока:\", football[football.Wage == football.Wage.max()]['Position'][0])"
   ]
  },
  {
   "cell_type": "code",
   "execution_count": 31,
   "metadata": {},
   "outputs": [
    {
     "name": "stdout",
     "output_type": "stream",
     "text": [
      "Сколько пенальти забили бразильцы: 22789\n"
     ]
    }
   ],
   "source": [
    "print(\"Сколько пенальти забили бразильцы:\", football[football.Nationality == 'Brazil'].Penalties.sum()) "
   ]
  },
  {
   "cell_type": "code",
   "execution_count": 33,
   "metadata": {},
   "outputs": [
    {
     "name": "stdout",
     "output_type": "stream",
     "text": [
      "Средний возраст игроков с точностью удара головой больше 50%:  25.59\n"
     ]
    }
   ],
   "source": [
    "print(\"Средний возраст игроков с точностью удара головой больше 50%: \", \n",
    "    round(football[football.HeadingAccuracy > 50]['Age'].mean(), 2))"
   ]
  },
  {
   "cell_type": "code",
   "execution_count": 42,
   "metadata": {},
   "outputs": [
    {
     "name": "stdout",
     "output_type": "stream",
     "text": [
      "Возраст самого молодого игрока с хладнокровием и реакцией выше 90%:  24\n"
     ]
    }
   ],
   "source": [
    "print(\"Возраст самого молодого игрока с хладнокровием и реакцией выше 90%: \", \n",
    "      football[(football.Composure > football.Composure.max() * 0.9) & \n",
    "               (football.Reactions > football.Reactions.max() * 0.9)]['Age'].min())"
   ]
  },
  {
   "cell_type": "code",
   "execution_count": 36,
   "metadata": {},
   "outputs": [
    {
     "name": "stdout",
     "output_type": "stream",
     "text": [
      "Разница в реакции самых старых и самых молодых игроков:  22.64\n"
     ]
    }
   ],
   "source": [
    "print(\"Разница в реакции самых старых и самых молодых игроков: \", \n",
    "      round(football[football['Age'] == football['Age'].max()]['Reactions'].mean() - football[football['Age'] == football['Age'].min()]['Reactions'].mean(), 2))"
   ]
  },
  {
   "cell_type": "code",
   "execution_count": 37,
   "metadata": {},
   "outputs": [
    {
     "name": "stdout",
     "output_type": "stream",
     "text": [
      "Страна с игроками, чья стоимость превышает среднее значение:  Zimbabwe\n"
     ]
    }
   ],
   "source": [
    "print(\"Страна с игроками, чья стоимость превышает среднее значение: \", \n",
    "      football[football['Value'] > football['Value'].mean()]['Nationality'].max())"
   ]
  },
  {
   "cell_type": "code",
   "execution_count": 4,
   "metadata": {},
   "outputs": [
    {
     "name": "stdout",
     "output_type": "stream",
     "text": [
      "Во сколько раз средняя зарплата голкипера с максимальным значением показателя рефлексы выше средней зарплаты голкипера с максимальным значением показателя владение мячом 2.77\n"
     ]
    }
   ],
   "source": [
    "print(\"Во сколько раз средняя зарплата голкипера с максимальным значением показателя рефлексы выше средней зарплаты голкипера с максимальным значением показателя владение мячом\", \n",
    "      round(football[(football['Position'] == 'GK') & \n",
    "                     (football['GKReflexes'] == football['GKReflexes'].max())]['Wage'].mean() / football[(football['Position'] == 'GK') & \n",
    "                                        (football['GKHandling'] == football['GKHandling'].max())]['Wage'].mean(), 2))"
   ]
  },
  {
   "cell_type": "code",
   "execution_count": 5,
   "metadata": {},
   "outputs": [
    {
     "name": "stdout",
     "output_type": "stream",
     "text": [
      "Отношение силы ударов наиболее и наименее агрессивных игроков:  0.69\n"
     ]
    }
   ],
   "source": [
    "print(\"Отношение силы ударов наиболее и наименее агрессивных игроков: \", \n",
    "      round(football[football['Aggression'] == football['Aggression'].max()]['ShotPower'].sum() / football[football['Aggression'] == football['Aggression'].min()]['ShotPower'].sum(), 2))"
   ]
  },
  {
   "cell_type": "code",
   "execution_count": null,
   "metadata": {},
   "outputs": [],
   "source": []
  }
 ],
 "metadata": {
  "kernelspec": {
   "display_name": "Python 3",
   "language": "python",
   "name": "python3"
  },
  "language_info": {
   "codemirror_mode": {
    "name": "ipython",
    "version": 3
   },
   "file_extension": ".py",
   "mimetype": "text/x-python",
   "name": "python",
   "nbconvert_exporter": "python",
   "pygments_lexer": "ipython3",
   "version": "3.7.4"
  }
 },
 "nbformat": 4,
 "nbformat_minor": 2
}
