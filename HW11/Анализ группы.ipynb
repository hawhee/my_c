{
 "cells": [
  {
   "cell_type": "code",
   "execution_count": 26,
   "metadata": {},
   "outputs": [
    {
     "data": {
      "text/html": [
       "<div>\n",
       "<style scoped>\n",
       "    .dataframe tbody tr th:only-of-type {\n",
       "        vertical-align: middle;\n",
       "    }\n",
       "\n",
       "    .dataframe tbody tr th {\n",
       "        vertical-align: top;\n",
       "    }\n",
       "\n",
       "    .dataframe thead th {\n",
       "        text-align: right;\n",
       "    }\n",
       "</style>\n",
       "<table border=\"1\" class=\"dataframe\">\n",
       "  <thead>\n",
       "    <tr style=\"text-align: right;\">\n",
       "      <th></th>\n",
       "      <th>Дата</th>\n",
       "      <th>Критерий</th>\n",
       "      <th>Парам. №1</th>\n",
       "      <th>Парам. №2</th>\n",
       "      <th>Значение</th>\n",
       "    </tr>\n",
       "  </thead>\n",
       "  <tbody>\n",
       "    <tr>\n",
       "      <td>0</td>\n",
       "      <td>15.03.2020</td>\n",
       "      <td>views</td>\n",
       "      <td>NaN</td>\n",
       "      <td>NaN</td>\n",
       "      <td>4</td>\n",
       "    </tr>\n",
       "    <tr>\n",
       "      <td>1</td>\n",
       "      <td>15.03.2020</td>\n",
       "      <td>visitors</td>\n",
       "      <td>NaN</td>\n",
       "      <td>NaN</td>\n",
       "      <td>3</td>\n",
       "    </tr>\n",
       "    <tr>\n",
       "      <td>2</td>\n",
       "      <td>15.03.2020</td>\n",
       "      <td>gender</td>\n",
       "      <td>М</td>\n",
       "      <td>NaN</td>\n",
       "      <td>3</td>\n",
       "    </tr>\n",
       "    <tr>\n",
       "      <td>3</td>\n",
       "      <td>15.03.2020</td>\n",
       "      <td>age</td>\n",
       "      <td>24-27</td>\n",
       "      <td>NaN</td>\n",
       "      <td>1</td>\n",
       "    </tr>\n",
       "    <tr>\n",
       "      <td>4</td>\n",
       "      <td>15.03.2020</td>\n",
       "      <td>age</td>\n",
       "      <td>30-35</td>\n",
       "      <td>NaN</td>\n",
       "      <td>2</td>\n",
       "    </tr>\n",
       "  </tbody>\n",
       "</table>\n",
       "</div>"
      ],
      "text/plain": [
       "         Дата  Критерий Парам. №1 Парам. №2  Значение\n",
       "0  15.03.2020     views       NaN       NaN         4\n",
       "1  15.03.2020  visitors       NaN       NaN         3\n",
       "2  15.03.2020    gender         М       NaN         3\n",
       "3  15.03.2020       age     24-27       NaN         1\n",
       "4  15.03.2020       age     30-35       NaN         2"
      ]
     },
     "execution_count": 26,
     "metadata": {},
     "output_type": "execute_result"
    }
   ],
   "source": [
    "import pandas as pd\n",
    "%matplotlib inline\n",
    "import matplotlib.pyplot as plt\n",
    "from datetime import datetime\n",
    "df = pd.read_csv(\"https://raw.githubusercontent.com/dm-fedorov/python_basic/master/data/vkontakte_group_01_2016-08-01_2020-03-15.csv\")\n",
    "df.head()"
   ]
  },
  {
   "cell_type": "code",
   "execution_count": 2,
   "metadata": {},
   "outputs": [],
   "source": [
    "dfc= pd.get_dummies(df, columns=['Критерий'])\n",
    "dfc['year'] = [i[6::] for i in dfc['Дата'].values]"
   ]
  },
  {
   "cell_type": "code",
   "execution_count": 6,
   "metadata": {},
   "outputs": [
    {
     "name": "stdout",
     "output_type": "stream",
     "text": [
      "Просмотры за год\n",
      " year\n",
      "2016     7199\n",
      "2017    11872\n",
      "2018     7055\n",
      "2019     8754\n",
      "2020     1444\n",
      "Name: Значение, dtype: int64\n"
     ]
    }
   ],
   "source": [
    "views = dfc[['year', 'Значение']][dfc['Критерий_views'] == 1]\n",
    "viewsperYear = views.groupby(['year'])['Значение'].sum()\n",
    "print(\"Просмотры за год\\n\", viewsperYear)"
   ]
  },
  {
   "cell_type": "code",
   "execution_count": 9,
   "metadata": {},
   "outputs": [
    {
     "name": "stdout",
     "output_type": "stream",
     "text": [
      "Посетители за год\n",
      " year\n",
      "2016    5254\n",
      "2017    8524\n",
      "2018    5117\n",
      "2019    5733\n",
      "2020     956\n",
      "Name: Значение, dtype: int64\n"
     ]
    }
   ],
   "source": [
    "visitors = dfc[['year', 'Значение']][dfc['Критерий_visitors'] == 1]\n",
    "visitorsperYear = visitors.groupby(['year'])['Значение'].sum()\n",
    "print(\"Посетители за год\\n\", visitorsperYear)"
   ]
  },
  {
   "cell_type": "code",
   "execution_count": 11,
   "metadata": {},
   "outputs": [
    {
     "name": "stdout",
     "output_type": "stream",
     "text": [
      "Охват\n",
      " year\n",
      "2016    15672\n",
      "2017    27479\n",
      "2018    12539\n",
      "2019    21185\n",
      "2020     1656\n",
      "Name: Значение, dtype: int64\n"
     ]
    }
   ],
   "source": [
    "reach = dfc[['year','Значение']][dfc['Критерий_reach'] == 1]\n",
    "reach = reach.groupby(['year'])['Значение'].sum()\n",
    "print(\"Охват\\n\",reach)"
   ]
  },
  {
   "cell_type": "code",
   "execution_count": 12,
   "metadata": {},
   "outputs": [
    {
     "name": "stdout",
     "output_type": "stream",
     "text": [
      "Охват среди подписчиков\n",
      " year\n",
      "2016    3522\n",
      "2017    4487\n",
      "2018    2125\n",
      "2019    9568\n",
      "2020     536\n",
      "Name: Значение, dtype: int64\n"
     ]
    }
   ],
   "source": [
    "reach_sub = dfc[['year','Значение']][dfc['Критерий_reach_subscribers'] == 1]\n",
    "reach_sub = reach_sub.groupby(['year'])['Значение'].sum()\n",
    "print(\"Охват среди подписчиков\\n\",reach_sub)"
   ]
  },
  {
   "cell_type": "code",
   "execution_count": 17,
   "metadata": {},
   "outputs": [
    {
     "name": "stdout",
     "output_type": "stream",
     "text": [
      "Анализ по гендеру\n",
      " Парам. №1\n",
      "Ж    10063\n",
      "М    12637\n",
      "Name: Значение, dtype: int64\n"
     ]
    }
   ],
   "source": [
    "gender = dfc[['Дата', 'Значение','Парам. №1']][dfc['Критерий_gender'] == 1]\n",
    "gender1 = gender.groupby(['Парам. №1'])['Значение'].sum()\n",
    "print(\"Анализ по гендеру\\n\", gender1 )"
   ]
  },
  {
   "cell_type": "code",
   "execution_count": 16,
   "metadata": {},
   "outputs": [
    {
     "name": "stdout",
     "output_type": "stream",
     "text": [
      "Анализ по возрасту аудитории\n",
      " Парам. №1\n",
      "1-18      741\n",
      "18-21    3046\n",
      "21-24    2560\n",
      "24-27    1751\n",
      "27-30    2419\n",
      "30-35    3466\n",
      "35-45    2402\n",
      "45+      2350\n",
      "Name: Значение, dtype: int64\n"
     ]
    }
   ],
   "source": [
    "age = dfc[['Парам. №1', 'Значение']][dfc['Критерий_age'] == 1]\n",
    "age1 = age.groupby(['Парам. №1'])['Значение'].sum()\n",
    "print(\"Анализ по возрасту аудитории\\n\", age1 )"
   ]
  },
  {
   "cell_type": "code",
   "execution_count": 18,
   "metadata": {},
   "outputs": [
    {
     "data": {
      "text/plain": [
       "Парам. №1\n",
       "Россия                         22367\n",
       "Украина                          994\n",
       "Беларусь                         506\n",
       "США                              340\n",
       "Казахстан                        290\n",
       "                               ...  \n",
       "Непал                              1\n",
       "Южно-Африканская Республика        1\n",
       "Кувейт                             1\n",
       "Кот-д'Ивуар                        1\n",
       "Австралия                          1\n",
       "Name: Значение, Length: 70, dtype: int64"
      ]
     },
     "execution_count": 18,
     "metadata": {},
     "output_type": "execute_result"
    }
   ],
   "source": [
    "country = dfc[['Парам. №1','Значение']][dfc['Критерий_countries'] == 1]\n",
    "country = country.groupby(['Парам. №1'])['Значение'].sum()\n",
    "country.sort_values(ascending=False)"
   ]
  },
  {
   "cell_type": "code",
   "execution_count": 21,
   "metadata": {},
   "outputs": [
    {
     "name": "stdout",
     "output_type": "stream",
     "text": [
      "Обратная связь\n",
      " Нравится              683\n",
      "Рассказали друзьям    291\n",
      "Комментарии            91\n",
      "Упоминания              1\n",
      "Name: Парам. №1, dtype: int64\n"
     ]
    }
   ],
   "source": [
    "feedback = dfc[['Парам. №1','Значение']][dfc['Критерий_feedback'] == 1]\n",
    "feedback = feedback['Парам. №1'].value_counts()\n",
    "print(\"Обратная связь\\n\", feedback)"
   ]
  },
  {
   "cell_type": "code",
   "execution_count": 22,
   "metadata": {},
   "outputs": [
    {
     "name": "stdout",
     "output_type": "stream",
     "text": [
      "Большая часть читателей из России и моложе 30 лет, следовательно данная группа подходит для продвижения нового товара, который будет интересен людям до 30 лет\n"
     ]
    }
   ],
   "source": [
    "print(\"Большая часть читателей из России и моложе 30 лет, следовательно данная группа подходит для продвижения нового товара, который будет интересен людям до 30 лет\")"
   ]
  },
  {
   "cell_type": "code",
   "execution_count": 29,
   "metadata": {},
   "outputs": [
    {
     "data": {
      "image/png": "[encoded data removed]",
      "text/plain": [
       "<Figure size 432x288 with 1 Axes>"
      ]
     },
     "metadata": {
      "needs_background": "light"
     },
     "output_type": "display_data"
    }
   ],
   "source": [
    "plt.title('Просмотры группы по годам')\n",
    "plt.ylabel('Значение')\n",
    "plt.xlabel('Год')\n",
    "axis = plt.gca()\n",
    "axis.tick_params(axis='x')\n",
    "axis.tick_params(axis='y')\n",
    "\n",
    "viewsperYear.plot(marker='o')\n",
    "plt.grid(True)\n",
    "plt.show()"
   ]
  },
  {
   "cell_type": "code",
   "execution_count": null,
   "metadata": {},
   "outputs": [],
   "source": []
  }
 ],
 "metadata": {
  "kernelspec": {
   "display_name": "Python 3",
   "language": "python",
   "name": "python3"
  },
  "language_info": {
   "codemirror_mode": {
    "name": "ipython",
    "version": 3
   },
   "file_extension": ".py",
   "mimetype": "text/x-python",
   "name": "python",
   "nbconvert_exporter": "python",
   "pygments_lexer": "ipython3",
   "version": "3.7.4"
  }
 },
 "nbformat": 4,
 "nbformat_minor": 2
}
