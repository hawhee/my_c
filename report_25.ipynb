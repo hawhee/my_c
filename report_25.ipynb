{
 "cells": [
  {
   "cell_type": "markdown",
   "metadata": {},
   "source": [
    "<big>Модуль <b>warnings</b> предназначен для предоставления пользователям информации о несерьезных ошибках, возникающих при работе программы</big>"
   ]
  },
  {
   "cell_type": "code",
   "execution_count": 5,
   "metadata": {},
   "outputs": [],
   "source": [
    "import warnings"
   ]
  },
  {
   "cell_type": "code",
   "execution_count": 8,
   "metadata": {},
   "outputs": [
    {
     "name": "stdout",
     "output_type": "stream",
     "text": [
      "Перед предуждением\n",
      "После предупреждения\n"
     ]
    },
    {
     "name": "stderr",
     "output_type": "stream",
     "text": [
      "C:\\Users\\mi\\Anaconda3\\lib\\site-packages\\ipykernel_launcher.py:2: UserWarning: Текст предупреждения\n",
      "  \n"
     ]
    }
   ],
   "source": [
    "print('Перед предуждением')\n",
    "warnings.warn('Текст предупреждения') #простейший способ выдачи предупреждения\n",
    "print('После предупреждения')"
   ]
  },
  {
   "cell_type": "markdown",
   "metadata": {},
   "source": [
    "Предупреждения обрабатываются на основе параметров фильтров. Фильтр\n",
    "состоит из пяти компонентов:\n",
    "\n",
    "Компонент <b>action</b> - строка, определяющая, что именно должно происходить при возбуждении данного предупреждения.\n",
    "\n",
    "Компонент <b>message</b> — это регулярное выражение, используемое для сопоставления c текстом предупреждения. \n",
    "\n",
    "Компонент <b>category</b> — имя класса исключений.\n",
    "\n",
    "Компонент <b>module</b> содержит регулярное выражение, сопоставляемое c именем модуля, сгенерировавшего предупреждение. \n",
    "\n",
    "Компонент <b>lineno</b> это целое число, которому должен соответствовать номер строки, в которой возникло предупреждение, или 0, чтобы соответствовать всем номерам строк."
   ]
  },
  {
   "cell_type": "markdown",
   "metadata": {},
   "source": [
    "<big>Действия фильтра предупреждений:</big>\n",
    "\n",
    "'error' - Преобразовать предупреждение в исключение\n",
    "\n",
    "'ignore' - Игнорировать предупреждение\n",
    "\n",
    "'always' - Всегда выводить предупреждение\n",
    "\n",
    "'default' - Выводить предупреждение, когда оно генерируется впервые в данном местоположении\n",
    "\n",
    "'module' - Выводить предупреждение, когда оно генерируется впервые в данном модуле\n",
    "\n",
    "'once' - Выводить предупреждение, когда оно генерируется впервые"
   ]
  },
  {
   "cell_type": "code",
   "execution_count": 6,
   "metadata": {},
   "outputs": [
    {
     "name": "stderr",
     "output_type": "stream",
     "text": [
      "C:\\Users\\mi\\Anaconda3\\lib\\site-packages\\ipykernel_launcher.py:3: UserWarning: Show this message\n",
      "  This is separate from the ipykernel package so we can avoid doing imports until\n",
      "C:\\Users\\mi\\Anaconda3\\lib\\site-packages\\ipykernel_launcher.py:4: UserWarning: Do not show this message\n",
      "  after removing the cwd from sys.path.\n"
     ]
    }
   ],
   "source": [
    "warnings.filterwarnings('always', '.*do not.*',)\n",
    "\n",
    "warnings.warn('Show this message')\n",
    "warnings.warn('Do not show this message')"
   ]
  },
  {
   "cell_type": "code",
   "execution_count": 9,
   "metadata": {},
   "outputs": [
    {
     "name": "stderr",
     "output_type": "stream",
     "text": [
      "C:\\Users\\mi\\Anaconda3\\lib\\site-packages\\ipykernel_launcher.py:3: UserWarning: Show this message\n",
      "  This is separate from the ipykernel package so we can avoid doing imports until\n"
     ]
    }
   ],
   "source": [
    "warnings.filterwarnings('ignore', '.*do not.*',)\n",
    "\n",
    "warnings.warn('Show this message')\n",
    "warnings.warn('Do not show this message')"
   ]
  },
  {
   "cell_type": "code",
   "execution_count": 20,
   "metadata": {},
   "outputs": [
    {
     "name": "stderr",
     "output_type": "stream",
     "text": [
      "C:\\Users\\mi\\Anaconda3\\lib\\site-packages\\ipykernel_launcher.py:3: UserWarning: This is а warning!\n",
      "  This is separate from the ipykernel package so we can avoid doing imports until\n"
     ]
    }
   ],
   "source": [
    "import warnings\n",
    "def function_with_warning():\n",
    "    warnings.warn('This is а warning!')\n",
    "    \n",
    "\n",
    "function_with_warning()\n",
    "function_with_warning()\n",
    "function_with_warning()"
   ]
  },
  {
   "cell_type": "markdown",
   "metadata": {},
   "source": [
    "<big>Модуль <b>warnings</b> представляет предупреждения, используя не собственные,\n",
    "а встроенные классы исключений. Класс Warning наследует класс Exception и его\n",
    "базовый класс для всех предупреждений. Вы можете определить собственные классы предупреждений, но они должны быть подклассами класса Warning, наследующимися от него как непосредственно, так и через другие существующие классы, включая нижеперечисленные.\n",
    "\n",
    "<br><b>DeprecationWarning</b> - предупреждения об использовании нерекомендуемых возможностей, оставленных лишь с целью обеспечения обратной совместимости</br>\n",
    "\n",
    "\n",
    "<br><b>RuntirneWarning</b> - предупреждения об использовании возможностей, семантика которых содержит риски возникновения проблем во время выполнения.</br>\n",
    "\n",
    "\n",
    "<b>SyntaxWarning</b> - предупреждения об использовании нерекомендуемого синтаксиса.\n",
    "\n",
    "<b>UserWarning</b> -  другие, определяемые пользователем предупреждения, не охватываемые вышеприведенными случаями.</big>"
   ]
  },
  {
   "cell_type": "markdown",
   "metadata": {},
   "source": [
    "<big>Модуль <b>ABC</b></big>"
   ]
  },
  {
   "cell_type": "markdown",
   "metadata": {},
   "source": [
    "<b>Зачем использовать абстрактные базовые классы?</b> \n",
    "<br>Абстрактные базовые классы - это форма проверки интерфейса, более строгая, чем индивидуальная hasattr() проверка конкретных методов. Определив абстрактный базовый класс, можно установить общий API для набора подклассов. Эта возможность особенно полезна в ситуациях, когда кто-то, менее знакомый с исходным кодом приложения, собирается предоставить расширения подключаемых модулей, но также может помочь при работе в большой команде или с большой базой кода, где отслеживаются все занятия одновременно сложно или невозможно.</br>\n",
    "\n"
   ]
  },
  {
   "cell_type": "code",
   "execution_count": 56,
   "metadata": {},
   "outputs": [],
   "source": [
    "import abc\n",
    "\n",
    "\n",
    "class PluginBase(metaclass=abc.ABCMeta):  #Определим абстрактный базовый класс для представления API набора плагинов, \n",
    "                                          #предназначенного для сохранения и загрузки данных.\n",
    "    @abc.abstractmethod                   #Зададим ABCMeta в качестве метакласса для нового базового класс\n",
    "    def load(self, input):                #используем декораторы c целью создания общедоступного API для класса.\n",
    "        \"\"\"Извлечь данные из источника\n",
    "        и вернуть объект.\n",
    "        \"\"\"\n",
    "\n",
    "    @abc.abstractmethod\n",
    "    def save(self, output, data):\n",
    "        \"\"\"Сохранить объект данных для выхода.\"\"\""
   ]
  },
  {
   "cell_type": "code",
   "execution_count": 68,
   "metadata": {},
   "outputs": [
    {
     "name": "stdout",
     "output_type": "stream",
     "text": [
      "Subclass: True\n",
      "Instance: True\n"
     ]
    }
   ],
   "source": [
    "'''Явная регистрация класса'''\n",
    "class LocalBaseClass:\n",
    "    pass\n",
    "\n",
    "\n",
    "@PluginBase.register                             #регистрируем класс, используя метод register() в качестве декоратора\n",
    "class RegisteredImplementation(LocalBaseClass):  #класс RegisteredImplementation создается путем наследования класса\n",
    "                                                 #LocalBaseClass, но регистрируется как реализация API PluginBase\n",
    "    def load(self, input): \n",
    "        return input.read()\n",
    "\n",
    "    def save(self, output, data):\n",
    "        return output.write(data)\n",
    "\n",
    "\n",
    "if __name__ == '__main__':                                    #функции issubclass() и isinstance() трактуют его так,\n",
    "    print('Subclass:', issubclass(RegisteredImplementation,   #как если бы он был потомком класса PluginBase\n",
    "                                  PluginBase))\n",
    "    print('Instance:', isinstance(RegisteredImplementation(),\n",
    "                                  PluginBase))"
   ]
  },
  {
   "cell_type": "code",
   "execution_count": 184,
   "metadata": {},
   "outputs": [
    {
     "name": "stdout",
     "output_type": "stream",
     "text": [
      "Subclass: True\n",
      "Instance: True\n"
     ]
    }
   ],
   "source": [
    "'''Создание подкласса непосредственно на основе абстрактного базового класса'''\n",
    "class SubclassImplementation(PluginBase):\n",
    "\n",
    "    def load(self, input):\n",
    "        return input.read()\n",
    "\n",
    "    def save(self, output, data):\n",
    "        return output.write(data)\n",
    "\n",
    "\n",
    "if __name__ == '__main__':\n",
    "    print('Subclass:', issubclass(SubclassImplementation,\n",
    "                                  PluginBase))\n",
    "    print('Instance:', isinstance(SubclassImplementation(),\n",
    "                                  PluginBase))"
   ]
  },
  {
   "cell_type": "code",
   "execution_count": 186,
   "metadata": {},
   "outputs": [
    {
     "name": "stdout",
     "output_type": "stream",
     "text": [
      "25\n",
      "20\n"
     ]
    }
   ],
   "source": [
    "from abc import ABC, abstractmethod\n",
    "class Shape(ABC):\n",
    "    @abstractmethod\n",
    "    def area(self): pass\n",
    "\n",
    "    @abstractmethod\n",
    "    def perimeter(self): pass\n",
    "\n",
    "class Square(Shape):\n",
    "    def __init__(self, side):\n",
    "        self.__side = side\n",
    "    def area(self):\n",
    "        return self.__side * self.__side\n",
    "    def perimeter(self):\n",
    "        return 4 * self.__side\n",
    "\n",
    "\n",
    "square = Square(5)\n",
    "print(square.area())\n",
    "print(square.perimeter())"
   ]
  },
  {
   "cell_type": "markdown",
   "metadata": {},
   "source": [
    "<big>Модуль <b>dis</b> включает функции, позволяющие работать c байт-кодом Python,\n",
    "представленным в удобочитаемой форме посредством дизассемблирования.</big> "
   ]
  },
  {
   "cell_type": "code",
   "execution_count": 84,
   "metadata": {},
   "outputs": [],
   "source": [
    "import dis"
   ]
  },
  {
   "cell_type": "markdown",
   "metadata": {},
   "source": [
    "<br>Примеры функций:</br>\n",
    "<br><b>dis.code_info(x)</b> - Возвращает отформатированную многострочную строку с подробной информацией об объекте кода для предоставленной функции, генератора, асинхронного генератора, сопрограммы, метода, строки исходного кода или объекта кода.</br>\n",
    "<br><b>dis.show_code(x, *, file=None)</b> - Распечатает подробную информацию об объекте кода для предоставленной функции, метода, строки исходного кода или объекта кода в файл (или sys.stdout, если файл не указан).</br>\n",
    "<br><b>dis.dis(x=None, *, file=None, depth=None)</b> - Рекурсивно дизассемблирует объекты</br>\n",
    "<br><b>dis.get_instructions(x, *, first_line=None)</b> - Возвращает итератор по инструкциям в предоставленной функции, методе, строке исходного кода или объекте кода</br>"
   ]
  },
  {
   "cell_type": "code",
   "execution_count": 115,
   "metadata": {},
   "outputs": [],
   "source": [
    "def test():\n",
    "    x = 1\n",
    "    y = 2"
   ]
  },
  {
   "cell_type": "code",
   "execution_count": 116,
   "metadata": {},
   "outputs": [
    {
     "name": "stdout",
     "output_type": "stream",
     "text": [
      "  2           0 LOAD_CONST               1 (1)\n",
      "              2 STORE_FAST               0 (x)\n",
      "\n",
      "  3           4 LOAD_CONST               2 (2)\n",
      "              6 STORE_FAST               1 (y)\n",
      "              8 LOAD_CONST               0 (None)\n",
      "             10 RETURN_VALUE\n"
     ]
    }
   ],
   "source": [
    "dis.dis(test)"
   ]
  },
  {
   "cell_type": "code",
   "execution_count": 117,
   "metadata": {},
   "outputs": [
    {
     "name": "stdout",
     "output_type": "stream",
     "text": [
      "LOAD_CONST\n",
      "STORE_FAST\n",
      "LOAD_CONST\n",
      "STORE_FAST\n",
      "LOAD_CONST\n",
      "RETURN_VALUE\n"
     ]
    }
   ],
   "source": [
    "bytecode = dis.Bytecode(test)\n",
    "for i in bytecode:\n",
    "    print(i.opname)"
   ]
  },
  {
   "cell_type": "code",
   "execution_count": 118,
   "metadata": {},
   "outputs": [
    {
     "name": "stdout",
     "output_type": "stream",
     "text": [
      "  2           0 LOAD_GLOBAL              0 (len)\n",
      "              2 LOAD_FAST                0 (args)\n",
      "              4 CALL_FUNCTION            1\n",
      "              6 STORE_FAST               1 (nargs)\n",
      "\n",
      "  3           8 LOAD_GLOBAL              1 (print)\n",
      "             10 LOAD_FAST                1 (nargs)\n",
      "             12 LOAD_FAST                0 (args)\n",
      "             14 CALL_FUNCTION            2\n",
      "             16 POP_TOP\n",
      "             18 LOAD_CONST               0 (None)\n",
      "             20 RETURN_VALUE\n"
     ]
    }
   ],
   "source": [
    "def f(*args):\n",
    "    nargs = len(args)\n",
    "    print(nargs, args)\n",
    "\n",
    "\n",
    "if __name__ == '__main__':\n",
    "    import dis\n",
    "    dis.dis(f)"
   ]
  },
  {
   "cell_type": "code",
   "execution_count": 166,
   "metadata": {},
   "outputs": [
    {
     "name": "stdout",
     "output_type": "stream",
     "text": [
      "Disassembly of __init__:\n",
      " 11           0 LOAD_FAST                1 (name)\n",
      "              2 LOAD_FAST                0 (self)\n",
      "              4 STORE_ATTR               0 (name)\n",
      "              6 LOAD_CONST               0 (None)\n",
      "              8 RETURN_VALUE\n",
      "\n",
      "Disassembly of __str__:\n",
      "  8           0 LOAD_CONST               1 ('MyObject({})')\n",
      "              2 LOAD_METHOD              0 (format)\n",
      "              4 LOAD_FAST                0 (self)\n",
      "              6 LOAD_ATTR                1 (name)\n",
      "              8 CALL_METHOD              1\n",
      "             10 RETURN_VALUE\n",
      "\n"
     ]
    }
   ],
   "source": [
    "'''Классы могут быть переданы dis(), и в этом случае все методы дизассемблируются по очереди'''\n",
    "class MyObject:\n",
    "    \"\"\"Example for dis.\"\"\"\n",
    "\n",
    "    CLASS_ATTRIBUTE = 'some value'\n",
    "\n",
    "    def __str__(self):\n",
    "        return 'MyObject({})'.format(self.name)\n",
    "\n",
    "    def __init__(self, name):\n",
    "        self.name = name\n",
    "\n",
    "\n",
    "dis.dis(MyObject)"
   ]
  },
  {
   "cell_type": "code",
   "execution_count": 121,
   "metadata": {},
   "outputs": [
    {
     "name": "stdout",
     "output_type": "stream",
     "text": [
      "Disassembly:\n",
      "\n",
      "  2           0 LOAD_CONST               0 ('a')\n",
      "              2 LOAD_CONST               1 (1)\n",
      "              4 BUILD_MAP                1\n",
      "              6 STORE_NAME               0 (my_dict)\n",
      "              8 LOAD_CONST               2 (None)\n",
      "             10 RETURN_VALUE\n",
      "\n",
      "Code details:\n",
      "\n",
      "Name:              <module>\n",
      "Filename:          <disassembly>\n",
      "Argument count:    0\n",
      "Kw-only arguments: 0\n",
      "Number of locals:  0\n",
      "Stack size:        2\n",
      "Flags:             NOFREE\n",
      "Constants:\n",
      "   0: 'a'\n",
      "   1: 1\n",
      "   2: None\n",
      "Names:\n",
      "   0: my_dict\n"
     ]
    }
   ],
   "source": [
    "code = \"\"\"\n",
    "my_dict = {'a': 1}\n",
    "\"\"\"\n",
    "\n",
    "print('Disassembly:\\n')\n",
    "dis.dis(code)\n",
    "\n",
    "print('\\nCode details:\\n') \n",
    "dis.show_code(code)          #вывод краткой информации о коде"
   ]
  },
  {
   "cell_type": "code",
   "execution_count": 124,
   "metadata": {},
   "outputs": [],
   "source": [
    "# Свертывается\n",
    "i = 1 + 2\n",
    "f = 3.4 * 5.6\n",
    "s = 'Hello,' + ' World!'\n",
    "\n",
    "# Не свертывается\n",
    "I = i * 3 * 4\n",
    "F = f / 2 / 3\n",
    "S = s + '\\n' + 'Fantastic!'"
   ]
  },
  {
   "cell_type": "code",
   "execution_count": 125,
   "metadata": {},
   "outputs": [
    {
     "name": "stdout",
     "output_type": "stream",
     "text": [
      "  2           0 LOAD_CONST               0 (3)\n",
      "              2 STORE_NAME               0 (i)\n",
      "\n",
      "  3           4 LOAD_CONST               1 (19.04)\n",
      "              6 STORE_NAME               1 (f)\n",
      "\n",
      "  4           8 LOAD_CONST               2 ('Hello, World!')\n",
      "             10 STORE_NAME               2 (s)\n",
      "\n",
      "  7          12 LOAD_NAME                0 (i)\n",
      "             14 LOAD_CONST               0 (3)\n",
      "             16 BINARY_MULTIPLY\n",
      "             18 LOAD_CONST               3 (4)\n",
      "             20 BINARY_MULTIPLY\n",
      "             22 STORE_NAME               3 (I)\n",
      "\n",
      "  8          24 LOAD_NAME                1 (f)\n",
      "             26 LOAD_CONST               4 (2)\n",
      "             28 BINARY_TRUE_DIVIDE\n",
      "             30 LOAD_CONST               0 (3)\n",
      "             32 BINARY_TRUE_DIVIDE\n",
      "             34 STORE_NAME               4 (F)\n",
      "\n",
      "  9          36 LOAD_NAME                2 (s)\n",
      "             38 LOAD_CONST               5 ('\\n')\n",
      "             40 BINARY_ADD\n",
      "             42 LOAD_CONST               6 ('Fantastic!')\n",
      "             44 BINARY_ADD\n",
      "             46 STORE_NAME               5 (S)\n",
      "             48 LOAD_CONST               7 (None)\n",
      "             50 RETURN_VALUE\n"
     ]
    }
   ],
   "source": [
    "dis.dis(In[124])"
   ]
  },
  {
   "cell_type": "markdown",
   "metadata": {},
   "source": [
    "<big> Модуль <b>inspect</b> предоставляет функции, позволяющие получать сведения об\n",
    "активных объектах, включая модули, классы, экземпляры, функции и методы.\n",
    "Функции, входящие в состав этого модуля, могут применяться для извлечения\n",
    "оригинального исходного кода функции, просмотра аргументов метода в стеке и извлечения информации, которую можно использовать для создания библиотечной документации исходного кода.</big>"
   ]
  },
  {
   "cell_type": "code",
   "execution_count": 126,
   "metadata": {},
   "outputs": [],
   "source": [
    "import inspect"
   ]
  },
  {
   "cell_type": "code",
   "execution_count": 130,
   "metadata": {},
   "outputs": [
    {
     "data": {
      "text/plain": [
       "[('CLASS_ATTRIBUTE', 'some value'),\n",
       " ('__class__', type),\n",
       " ('__delattr__', <slot wrapper '__delattr__' of 'object' objects>),\n",
       " ('__dict__',\n",
       "  mappingproxy({'__module__': '__main__',\n",
       "                '__doc__': 'Example for dis.',\n",
       "                'CLASS_ATTRIBUTE': 'some value',\n",
       "                '__str__': <function __main__.MyObject.__str__(self)>,\n",
       "                '__init__': <function __main__.MyObject.__init__(self, name)>,\n",
       "                '__dict__': <attribute '__dict__' of 'MyObject' objects>,\n",
       "                '__weakref__': <attribute '__weakref__' of 'MyObject' objects>})),\n",
       " ('__dir__', <method '__dir__' of 'object' objects>),\n",
       " ('__doc__', 'Example for dis.'),\n",
       " ('__eq__', <slot wrapper '__eq__' of 'object' objects>),\n",
       " ('__format__', <method '__format__' of 'object' objects>),\n",
       " ('__ge__', <slot wrapper '__ge__' of 'object' objects>),\n",
       " ('__getattribute__', <slot wrapper '__getattribute__' of 'object' objects>),\n",
       " ('__gt__', <slot wrapper '__gt__' of 'object' objects>),\n",
       " ('__hash__', <slot wrapper '__hash__' of 'object' objects>),\n",
       " ('__init__', <function __main__.MyObject.__init__(self, name)>),\n",
       " ('__init_subclass__', <function MyObject.__init_subclass__>),\n",
       " ('__le__', <slot wrapper '__le__' of 'object' objects>),\n",
       " ('__lt__', <slot wrapper '__lt__' of 'object' objects>),\n",
       " ('__module__', '__main__'),\n",
       " ('__ne__', <slot wrapper '__ne__' of 'object' objects>),\n",
       " ('__new__', <function object.__new__(*args, **kwargs)>),\n",
       " ('__reduce__', <method '__reduce__' of 'object' objects>),\n",
       " ('__reduce_ex__', <method '__reduce_ex__' of 'object' objects>),\n",
       " ('__repr__', <slot wrapper '__repr__' of 'object' objects>),\n",
       " ('__setattr__', <slot wrapper '__setattr__' of 'object' objects>),\n",
       " ('__sizeof__', <method '__sizeof__' of 'object' objects>),\n",
       " ('__str__', <function __main__.MyObject.__str__(self)>),\n",
       " ('__subclasshook__', <function MyObject.__subclasshook__>),\n",
       " ('__weakref__', <attribute '__weakref__' of 'MyObject' objects>)]"
      ]
     },
     "execution_count": 130,
     "metadata": {},
     "output_type": "execute_result"
    }
   ],
   "source": [
    "inspect.getmembers(MyObject) #сведения о атрибутах объектов"
   ]
  },
  {
   "cell_type": "code",
   "execution_count": 132,
   "metadata": {},
   "outputs": [
    {
     "data": {
      "text/plain": [
       "[('__abstractmethods__', frozenset({'area', 'perimeter'})),\n",
       " ('__class__', abc.ABCMeta),\n",
       " ('__delattr__', <slot wrapper '__delattr__' of 'object' objects>),\n",
       " ('__dict__',\n",
       "  mappingproxy({'__module__': '__main__',\n",
       "                'area': <function __main__.Shape.area(self)>,\n",
       "                'perimeter': <function __main__.Shape.perimeter(self)>,\n",
       "                '__dict__': <attribute '__dict__' of 'Shape' objects>,\n",
       "                '__weakref__': <attribute '__weakref__' of 'Shape' objects>,\n",
       "                '__doc__': None,\n",
       "                '__abstractmethods__': frozenset({'area', 'perimeter'}),\n",
       "                '_abc_impl': <_abc_data at 0x1cfe2c94cf0>})),\n",
       " ('__dir__', <method '__dir__' of 'object' objects>),\n",
       " ('__doc__', None),\n",
       " ('__eq__', <slot wrapper '__eq__' of 'object' objects>),\n",
       " ('__format__', <method '__format__' of 'object' objects>),\n",
       " ('__ge__', <slot wrapper '__ge__' of 'object' objects>),\n",
       " ('__getattribute__', <slot wrapper '__getattribute__' of 'object' objects>),\n",
       " ('__gt__', <slot wrapper '__gt__' of 'object' objects>),\n",
       " ('__hash__', <slot wrapper '__hash__' of 'object' objects>),\n",
       " ('__init__', <slot wrapper '__init__' of 'object' objects>),\n",
       " ('__init_subclass__', <function Shape.__init_subclass__>),\n",
       " ('__le__', <slot wrapper '__le__' of 'object' objects>),\n",
       " ('__lt__', <slot wrapper '__lt__' of 'object' objects>),\n",
       " ('__module__', '__main__'),\n",
       " ('__ne__', <slot wrapper '__ne__' of 'object' objects>),\n",
       " ('__new__', <function object.__new__(*args, **kwargs)>),\n",
       " ('__reduce__', <method '__reduce__' of 'object' objects>),\n",
       " ('__reduce_ex__', <method '__reduce_ex__' of 'object' objects>),\n",
       " ('__repr__', <slot wrapper '__repr__' of 'object' objects>),\n",
       " ('__setattr__', <slot wrapper '__setattr__' of 'object' objects>),\n",
       " ('__sizeof__', <method '__sizeof__' of 'object' objects>),\n",
       " ('__slots__', ()),\n",
       " ('__str__', <slot wrapper '__str__' of 'object' objects>),\n",
       " ('__subclasshook__', <function Shape.__subclasshook__>),\n",
       " ('__weakref__', <attribute '__weakref__' of 'Shape' objects>),\n",
       " ('_abc_impl', <_abc_data at 0x1cfe2c94cf0>),\n",
       " ('area', <function __main__.Shape.area(self)>),\n",
       " ('perimeter', <function __main__.Shape.perimeter(self)>)]"
      ]
     },
     "execution_count": 132,
     "metadata": {},
     "output_type": "execute_result"
    }
   ],
   "source": [
    "inspect.getmembers(Shape)"
   ]
  },
  {
   "cell_type": "code",
   "execution_count": 136,
   "metadata": {},
   "outputs": [
    {
     "name": "stdout",
     "output_type": "stream",
     "text": [
      "__class__ : <class 'abc.ABCMeta'>\n"
     ]
    }
   ],
   "source": [
    "for name, data in inspect.getmembers(Shape, inspect.isclass): #выводятся лишь классы\n",
    "    print('{} : {!r}'.format(name, data)) "
   ]
  },
  {
   "cell_type": "code",
   "execution_count": 143,
   "metadata": {},
   "outputs": [
    {
     "name": "stdout",
     "output_type": "stream",
     "text": [
      "[('area', <function Shape.area at 0x000001CFE4A8A0D8>),\n",
      " ('perimeter', <function Shape.perimeter at 0x000001CFE4A8A3A8>)]\n"
     ]
    }
   ],
   "source": [
    "from pprint import pprint\n",
    "'''Чтобы найти методы класса, следует использовать предикат isfunction().'''\n",
    "pprint(inspect.getmembers(Shape, inspect.isfunction))"
   ]
  },
  {
   "cell_type": "code",
   "execution_count": 151,
   "metadata": {},
   "outputs": [
    {
     "name": "stdout",
     "output_type": "stream",
     "text": [
      "MyObject.__doc__:\n",
      "Example for dis.\n",
      "\n",
      "MyObject:\n",
      "Example for dis.\n"
     ]
    }
   ],
   "source": [
    "'''Чтобы извлечь строку документирования объекта, следует использовать функцию getdoc ().'''\n",
    "print('MyObject.__doc__:')\n",
    "print(MyObject.__doc__)\n",
    "print()\n",
    "print('MyObject:')\n",
    "print(inspect.getdoc(MyObject))"
   ]
  },
  {
   "cell_type": "code",
   "execution_count": 175,
   "metadata": {},
   "outputs": [
    {
     "name": "stdout",
     "output_type": "stream",
     "text": [
      "None\n"
     ]
    }
   ],
   "source": [
    "'''Просматривает исходный код объекта и находиткомментарии, предшествующие реализации.'''\n",
    "print(inspect.getcomments(MyObject))"
   ]
  },
  {
   "cell_type": "code",
   "execution_count": 177,
   "metadata": {},
   "outputs": [
    {
     "name": "stdout",
     "output_type": "stream",
     "text": [
      "    def area(self):\n",
      "        return self.__side * self.__side\n",
      "\n"
     ]
    }
   ],
   "source": [
    "'''Если для модуля доступен .pу, то для извлечения исходного кода класса или метода можно использовать getsource()'''\n",
    "print(inspect.getsource(Square.area))"
   ]
  },
  {
   "cell_type": "code",
   "execution_count": 179,
   "metadata": {},
   "outputs": [
    {
     "name": "stdout",
     "output_type": "stream",
     "text": [
      "(['    def area(self):\\n', '        return self.__side * self.__side\\n'], 12)\n"
     ]
    }
   ],
   "source": [
    "'''Функция getsourcelines() возвращает кортеж, содержащий список строк(строки из файла c исходным кодом) \n",
    "и номер строки в файле, c которой начинается исходный код.'''\n",
    "import pprint\n",
    "\n",
    "pprint.pprint(inspect.getsourcelines(Square.area))"
   ]
  },
  {
   "cell_type": "code",
   "execution_count": null,
   "metadata": {},
   "outputs": [],
   "source": []
  }
 ],
 "metadata": {
  "kernelspec": {
   "display_name": "Python 3",
   "language": "python",
   "name": "python3"
  },
  "language_info": {
   "codemirror_mode": {
    "name": "ipython",
    "version": 3
   },
   "file_extension": ".py",
   "mimetype": "text/x-python",
   "name": "python",
   "nbconvert_exporter": "python",
   "pygments_lexer": "ipython3",
   "version": "3.7.4"
  }
 },
 "nbformat": 4,
 "nbformat_minor": 2
}
