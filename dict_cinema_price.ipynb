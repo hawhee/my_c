{
 "cells": [
  {
   "cell_type": "code",
   "execution_count": 2,
   "metadata": {},
   "outputs": [],
   "source": [
    "cinema = {'Паразиты':\n",
    "         {'time_price': \n",
    "         {'12': 250,'16': 350,'20': 450}\n",
    "         },\n",
    "          '1917':\n",
    "         {'time_price': \n",
    "         {'10': 250,'13': 350,'16': 350}\n",
    "         },\n",
    "          'Соник в кино':\n",
    "         {'time_price': \n",
    "         {'10': 350,'14': 450,'18': 450}}
    }"
   ]
  },
  {
   "cell_type": "code",
   "execution_count": null,
   "metadata": {},
   "outputs": [],
   "source": []
  }
 ],
 "metadata": {
  "kernelspec": {
   "display_name": "Python 3",
   "language": "python",
   "name": "python3"
  },
  "language_info": {
   "codemirror_mode": {
    "name": "ipython",
    "version": 3
   },
   "file_extension": ".py",
   "mimetype": "text/x-python",
   "name": "python",
   "nbconvert_exporter": "python",
   "pygments_lexer": "ipython3",
   "version": "3.7.4"
  }
 },
 "nbformat": 4,
 "nbformat_minor": 4
}
