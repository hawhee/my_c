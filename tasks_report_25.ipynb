{
 "cells": [
  {
   "cell_type": "markdown",
   "metadata": {},
   "source": [
    "1. Вывести из кода ниже с помощью функции getcomments() комментарий 'output this comment'"
   ]
  },
  {
   "cell_type": "code",
   "execution_count": 1,
   "metadata": {},
   "outputs": [],
   "source": [
    "# This comment appears first\n",
    "# and spans 2 lines.\n",
    "\n",
    "# This comment does not show up in the output of getcomments().\n",
    "\n",
    "\"\"\"Sample file to serve as the basis for inspect examples.\n",
    "\"\"\"\n",
    "\n",
    "\n",
    "def module_level_function(arg1, arg2='default', *args, **kwargs):\n",
    "    \"\"\"This function is declared in the module.\"\"\"\n",
    "    local_variable = arg1 * 2\n",
    "    return local_variable\n",
    "\n",
    "\n",
    "class A(object):\n",
    "    \"\"\"The A class.\"\"\"\n",
    "\n",
    "    def __init__(self, name):\n",
    "        self.name = name\n",
    "\n",
    "    def get_name(self):\n",
    "        \"Returns the name of the instance.\"\n",
    "        return self.name\n",
    "\n",
    "\n",
    "instance_of_a = A('sample_instance')\n",
    "\n",
    "\n",
    "class B(A):\n",
    "    \"\"\"This is the B class.\n",
    "    It is derived from A.\n",
    "    \"\"\"\n",
    "\n",
    "    # This method is not part of A.\n",
    "    def do_something(self):\n",
    "        \"\"\"Does some work\"\"\"\n",
    "    #output this comment\n",
    "    def get_name(self):\n",
    "        \"Overrides version from A\"\n",
    "        return 'B(' + self.name + ')'"
   ]
  },
  {
   "cell_type": "markdown",
   "metadata": {},
   "source": [
    "2. Написать функцию isabstract, которая проверяет, является ли класс абстрактным или нет"
   ]
  },
  {
   "cell_type": "code",
   "execution_count": null,
   "metadata": {},
   "outputs": [],
   "source": []
  }
 ],
 "metadata": {
  "kernelspec": {
   "display_name": "Python 3",
   "language": "python",
   "name": "python3"
  },
  "language_info": {
   "codemirror_mode": {
    "name": "ipython",
    "version": 3
   },
   "file_extension": ".py",
   "mimetype": "text/x-python",
   "name": "python",
   "nbconvert_exporter": "python",
   "pygments_lexer": "ipython3",
   "version": "3.7.4"
  }
 },
 "nbformat": 4,
 "nbformat_minor": 2
}
